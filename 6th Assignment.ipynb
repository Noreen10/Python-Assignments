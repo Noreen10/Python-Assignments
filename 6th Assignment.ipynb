{
 "cells": [
  {
   "cell_type": "code",
   "execution_count": 3,
   "metadata": {},
   "outputs": [
    {
     "name": "stdout",
     "output_type": "stream",
     "text": [
      "Object-oriented programming (OOP) is a programming language model in which programs are organized around data, or objects, rather than functions and logic. An object can be defined as a data field that has unique attributes and behavior.\n"
     ]
    }
   ],
   "source": [
    "opp = \"Object-oriented programming (OOP) is a programming language model in which programs are organized around data, or objects, rather than functions and logic. An object can be defined as a data field that has unique attributes and behavior.\"\n",
    "print(opp)"
   ]
  },
  {
   "cell_type": "code",
   "execution_count": 4,
   "metadata": {},
   "outputs": [
    {
     "name": "stdout",
     "output_type": "stream",
     "text": [
      "It provides a clear modular structure for programs which makes it good for defining abstract datatypes in which implementation details are hidden. Objects can also be reused within an across applications. The reuse of software also lowers the cost of development.\n"
     ]
    }
   ],
   "source": [
    "Advantage = \"It provides a clear modular structure for programs which makes it good for defining abstract datatypes in which implementation details are hidden. Objects can also be reused within an across applications. The reuse of software also lowers the cost of development.\"\n",
    "print(Advantage)"
   ]
  },
  {
   "cell_type": "code",
   "execution_count": 5,
   "metadata": {},
   "outputs": [
    {
     "name": "stdout",
     "output_type": "stream",
     "text": [
      "A function is a piece of code that is called by name. It can be passed data to operate on (i.e. the parameters) and can optionally return data (the return value). All data that is passed to a function is explicitly passed. A method is a piece of code that is called by a name that is associated with an object.\n"
     ]
    }
   ],
   "source": [
    "function = \"A function is a piece of code that is called by name. It can be passed data to operate on (i.e. the parameters) and can optionally return data (the return value). All data that is passed to a function is explicitly passed. A method is a piece of code that is called by a name that is associated with an object.\"\n",
    "print(function)"
   ]
  },
  {
   "cell_type": "code",
   "execution_count": 15,
   "metadata": {},
   "outputs": [
    {
     "name": "stdout",
     "output_type": "stream",
     "text": [
      "A class is a template definition of the methods and variables in a particular kind of object \n",
      "\n",
      "Each object is an instance of a particular class or subclass with the class's own methods or procedures and data variables.\n",
      "\n",
      "Color, for example, is an attribute of your hair. In using or programming computers, an attribute is a changeable property or characteristic of some component of a program that can be set to different values..\n",
      "\n",
      "Behaviors are actions that can occur on an object. The behaviors that can be performed on a specific class of object are called methods\n"
     ]
    }
   ],
   "source": [
    "clss = \"A class is a template definition of the methods and variables in a particular kind of object \"\n",
    "print(clss + \"\\n\")\n",
    "obj = \"Each object is an instance of a particular class or subclass with the class's own methods or procedures and data variables.\"\n",
    "print(obj + \"\\n\")\n",
    "Attribute = \"Color, for example, is an attribute of your hair. In using or programming computers, an attribute is a changeable property or characteristic of some component of a program that can be set to different values..\"\n",
    "print(Attribute + \"\\n\")\n",
    "bevavior = \"Behaviors are actions that can occur on an object. The behaviors that can be performed on a specific class of object are called methods\"\n",
    "print(bevavior)"
   ]
  },
  {
   "cell_type": "code",
   "execution_count": 4,
   "metadata": {},
   "outputs": [
    {
     "name": "stdout",
     "output_type": "stream",
     "text": [
      "Driver Name : Sandy ; Number of seats in cab : 2\n"
     ]
    }
   ],
   "source": [
    "class Vehicle:\n",
    "    def __init__(self,driver,wheels,seats):\n",
    "        self.driver = driver\n",
    "        self.noofwheels = wheels\n",
    "        self.noofseats = seats\n",
    "\n",
    "    def __str__(self):\n",
    "        return \"Driver Name : \" + self.driver + \" ; \" + \"Number of seats in cab : \" + str(self.noofseats)\n",
    "\n",
    "veh_1 = Vehicle(\"Sandy\", 4, 2)\n",
    "print(veh_1)"
   ]
  },
  {
   "cell_type": "code",
   "execution_count": null,
   "metadata": {},
   "outputs": [],
   "source": []
  },
  {
   "cell_type": "code",
   "execution_count": null,
   "metadata": {},
   "outputs": [],
   "source": []
  }
 ],
 "metadata": {
  "kernelspec": {
   "display_name": "Python 3",
   "language": "python",
   "name": "python3"
  },
  "language_info": {
   "codemirror_mode": {
    "name": "ipython",
    "version": 3
   },
   "file_extension": ".py",
   "mimetype": "text/x-python",
   "name": "python",
   "nbconvert_exporter": "python",
   "pygments_lexer": "ipython3",
   "version": "3.7.4"
  }
 },
 "nbformat": 4,
 "nbformat_minor": 2
}
