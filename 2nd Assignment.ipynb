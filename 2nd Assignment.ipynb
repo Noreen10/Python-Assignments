{
 "cells": [
  {
   "cell_type": "code",
   "execution_count": 1,
   "metadata": {},
   "outputs": [
    {
     "name": "stdout",
     "output_type": "stream",
     "text": [
      "Enter your Math mark : 12\n",
      "Enter your English mark : 45\n",
      "Enter your Urdu mark : 78\n",
      "Enter your Biology mark : 95\n",
      "Enter your chemistry mark : 12\n",
      "Your Total Marks Is :  242\n",
      "Your percentage % is :  48.4\n",
      "Your Grade is : E\n"
     ]
    }
   ],
   "source": [
    "math = int(input(\"Enter your Math mark : \" ))\n",
    "eng = int(input(\"Enter your English mark : \"))\n",
    "ur = int(input(\"Enter your Urdu mark : \"))\n",
    "bio = int(input(\"Enter your Biology mark : \"))\n",
    "che = int(input(\"Enter your chemistry mark : \"))\n",
    "total = math+ eng+ ur+ bio+ che\n",
    "print(\"Your Total Marks Is : \",total)\n",
    "per = int(total * 100)/500\n",
    "if total <= 500 :\n",
    "    print(\"Your percentage % is : \",per)\n",
    "    if per >= 90 and per < 100:\n",
    "        print(\"Your Grade is : A+\");\n",
    "    elif per >= 80 :\n",
    "        print(\"Your Grade is : A\");\n",
    "    elif per >= 70 :\n",
    "        print(\"Your Grade is : B\");\n",
    "    elif per >= 60 :\n",
    "        print(\"Your Grade is : C\");\n",
    "    elif per >= 50 :\n",
    "        print(\"Your Grade is : D\");\n",
    "    elif per >= 40 :\n",
    "        print(\"Your Grade is : E\");\n",
    "    else :\n",
    "        print(\"Failed\");\n",
    "else :\n",
    "    print(\"Plz enter your correct marks\")\n",
    "\n"
   ]
  },
  {
   "cell_type": "code",
   "execution_count": 1,
   "metadata": {},
   "outputs": [
    {
     "name": "stdout",
     "output_type": "stream",
     "text": [
      "Enter any number : 41\n",
      "This is an odd number.\n"
     ]
    }
   ],
   "source": [
    "num = int(input(\"Enter any number : \"))\n",
    "mod = num % 2\n",
    "if mod > 0:\n",
    "    print(\"This is an odd number.\")\n",
    "else:\n",
    "    print(\"This is an even number.\")"
   ]
  },
  {
   "cell_type": "code",
   "execution_count": 45,
   "metadata": {},
   "outputs": [
    {
     "name": "stdout",
     "output_type": "stream",
     "text": [
      "7\n"
     ]
    }
   ],
   "source": [
    "cities = [\"Karachi\", \"Lahore\", \"Islamabad\", \"Quetta\", \"Marry\",5,10]\n",
    "count = len(cities)\n",
    "print(count)"
   ]
  },
  {
   "cell_type": "code",
   "execution_count": 46,
   "metadata": {},
   "outputs": [
    {
     "name": "stdout",
     "output_type": "stream",
     "text": [
      "8\n"
     ]
    }
   ],
   "source": [
    "def filter_by_type(list_, type_of):\n",
    "    return [n for n in list_ if isinstance(n, type_of)]\n",
    "\n",
    "myList = [ 4,'a', 'b', 'c', 1, 'd', 3]\n",
    "nums = filter_by_type(myList,int)\n",
    "print(sum(nums))"
   ]
  },
  {
   "cell_type": "code",
   "execution_count": 6,
   "metadata": {},
   "outputs": [
    {
     "name": "stdout",
     "output_type": "stream",
     "text": [
      "89\n"
     ]
    }
   ],
   "source": [
    "a = [1, 1, 2, 3, 5, 8, 13, 21, 34, 55, 89]\n",
    "largest = max(a)\n",
    "print(largest)"
   ]
  },
  {
   "cell_type": "code",
   "execution_count": 7,
   "metadata": {},
   "outputs": [
    {
     "name": "stdout",
     "output_type": "stream",
     "text": [
      "1\n",
      "1\n",
      "2\n",
      "3\n"
     ]
    }
   ],
   "source": [
    "a = [1, 1, 2, 3, 5, 8, 13, 21, 34, 55, 89]\n",
    "for i in a:\n",
    "    if i < 5:\n",
    "        print(i)"
   ]
  }
 ],
 "metadata": {
  "kernelspec": {
   "display_name": "Python 3",
   "language": "python",
   "name": "python3"
  },
  "language_info": {
   "codemirror_mode": {
    "name": "ipython",
    "version": 3
   },
   "file_extension": ".py",
   "mimetype": "text/x-python",
   "name": "python",
   "nbconvert_exporter": "python",
   "pygments_lexer": "ipython3",
   "version": "3.7.4"
  }
 },
 "nbformat": 4,
 "nbformat_minor": 2
}
