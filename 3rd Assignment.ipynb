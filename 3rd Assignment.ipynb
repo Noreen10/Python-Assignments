{
 "cells": [
  {
   "cell_type": "code",
   "execution_count": 14,
   "metadata": {},
   "outputs": [
    {
     "name": "stdout",
     "output_type": "stream",
     "text": [
      "Enter first value4\n",
      "Enter second value4\n",
      "Enter operater+\n",
      "Answer is :  8\n"
     ]
    }
   ],
   "source": [
    "num1 = int(input(\"Enter first value\"))\n",
    "num2 = int(input(\"Enter second value\"))\n",
    "optr = input(\"Enter operater\")\n",
    "\n",
    "if optr == '+':\n",
    "        num = num1 + num2\n",
    "        print(\"Answer is : \",num)\n",
    "\n",
    "elif optr == '-':\n",
    "        num = num1 - num2\n",
    "        print(\"Answer is : \",num)\n",
    "\n",
    "elif optr == '*':\n",
    "        num = num1 * num2\n",
    "        print(\"Answer is : \",num)\n",
    "\n",
    "elif optr == '/':\n",
    "        num = num1 / num2\n",
    "        print(\"Answer is : \",num)\n",
    "\n",
    "else:\n",
    "        print('Plz enter valid operator.')\n"
   ]
  },
  {
   "cell_type": "code",
   "execution_count": 16,
   "metadata": {},
   "outputs": [
    {
     "name": "stdout",
     "output_type": "stream",
     "text": [
      "[4, 1, 3]\n"
     ]
    }
   ],
   "source": [
    "myList = [ 4,'a', 'b', 'c', 1, 'd', 3, 6]\n",
    "def filter_by_type(list_, type_of):\n",
    "    return [n for n in list_ if isinstance(n, type_of)]\n",
    "\n",
    "nums = filter_by_type(myList,int)\n",
    "print(nums)"
   ]
  },
  {
   "cell_type": "code",
   "execution_count": 22,
   "metadata": {},
   "outputs": [
    {
     "name": "stdout",
     "output_type": "stream",
     "text": [
      "{'first name': 'ali', 'last name': 'khan', 'address': 'karachi', 'contact_No': 4578454654}\n"
     ]
    }
   ],
   "source": [
    "empData = {\n",
    "\"first name\": \"ali\",\n",
    "\"last name\": \"khan\",\n",
    "\"address\": \"karachi\",\n",
    "}\n",
    "empData[\"contact_No\"] = 4578454654\n",
    "print (empData)"
   ]
  },
  {
   "cell_type": "code",
   "execution_count": 28,
   "metadata": {},
   "outputs": [
    {
     "name": "stdout",
     "output_type": "stream",
     "text": [
      "Sum : 650\n"
     ]
    }
   ],
   "source": [
    "dict = {'a': 50, 'b':100, 'c':500}\n",
    "def rtnSum(Dict): \n",
    "      \n",
    "    sum = 0\n",
    "    for i in Dict: \n",
    "        sum = sum + Dict[i] \n",
    "      \n",
    "    return sum \n",
    "print(\"Sum :\", rtnSum(dict))"
   ]
  },
  {
   "cell_type": "code",
   "execution_count": 26,
   "metadata": {},
   "outputs": [
    {
     "name": "stdout",
     "output_type": "stream",
     "text": [
      "[20, 30, -20, 60]\n"
     ]
    }
   ],
   "source": [
    "list1 = [10, 20, 30, 20, 20, 30, 40, 50, -20, 60, 60, -20, -20]\n",
    "def Repeat(x): \n",
    "    _size = len(x) \n",
    "    repeated = [] \n",
    "    for i in range(_size): \n",
    "        k = i + 1\n",
    "        for j in range(k, _size): \n",
    "            if x[i] == x[j] and x[i] not in repeated: \n",
    "                repeated.append(x[i]) \n",
    "    return repeated \n",
    "  \n",
    " \n",
    "print (Repeat(list1))"
   ]
  },
  {
   "cell_type": "code",
   "execution_count": 13,
   "metadata": {},
   "outputs": [
    {
     "name": "stdout",
     "output_type": "stream",
     "text": [
      "Enter key to check:A\n",
      "Key is present and value of the key is:\n",
      "1\n"
     ]
    }
   ],
   "source": [
    "d={'A':1,'B':2,'C':3}\n",
    "key= input(\"Enter key to check:\")\n",
    "if key in d.keys():\n",
    "      print(\"Key is present and value of the key is:\")\n",
    "      print(d[key])\n",
    "else:\n",
    "      print(\"Key isn't present!\")"
   ]
  },
  {
   "cell_type": "code",
   "execution_count": null,
   "metadata": {},
   "outputs": [],
   "source": []
  },
  {
   "cell_type": "code",
   "execution_count": null,
   "metadata": {},
   "outputs": [],
   "source": []
  }
 ],
 "metadata": {
  "kernelspec": {
   "display_name": "Python 3",
   "language": "python",
   "name": "python3"
  }
 },
 "nbformat": 4,
 "nbformat_minor": 2
}
